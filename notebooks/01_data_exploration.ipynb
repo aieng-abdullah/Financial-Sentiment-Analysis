{
 "cells": [
  {
   "cell_type": "markdown",
   "metadata": {
    "id": "4gbU8C0FQ5W4"
   },
   "source": [
    "#    Importing Libary\n"
   ]
  },
  {
   "cell_type": "code",
   "execution_count": 3,
   "metadata": {
    "executionInfo": {
     "elapsed": 1133,
     "status": "ok",
     "timestamp": 1751986151034,
     "user": {
      "displayName": "hulu world",
      "userId": "05131870956520847838"
     },
     "user_tz": -360
    },
    "id": "CeWU1tYUPy_f"
   },
   "outputs": [],
   "source": [
    "import pandas as pd\n",
    "import numpy as np\n",
    "import matplotlib.pyplot as plt\n",
    "import seaborn as sns\n",
    "\n"
   ]
  },
  {
   "cell_type": "markdown",
   "metadata": {
    "id": "pZhQVvhmSKVP"
   },
   "source": [
    "#  Loding Data\n"
   ]
  },
  {
   "cell_type": "code",
   "execution_count": 5,
   "metadata": {
    "executionInfo": {
     "elapsed": 17,
     "status": "ok",
     "timestamp": 1751986151825,
     "user": {
      "displayName": "hulu world",
      "userId": "05131870956520847838"
     },
     "user_tz": -360
    },
    "id": "iQZrbmbBSJkX"
   },
   "outputs": [],
   "source": [
    "df = pd.read_csv(r'C:\\Users\\teamp\\Desktop\\Financial Sentiment Analysis\\data\\raw\\financial_phrasebank.csv')"
   ]
  },
  {
   "cell_type": "code",
   "execution_count": 6,
   "metadata": {
    "colab": {
     "base_uri": "https://localhost:8080/",
     "height": 206
    },
    "executionInfo": {
     "elapsed": 108,
     "status": "ok",
     "timestamp": 1751986154587,
     "user": {
      "displayName": "hulu world",
      "userId": "05131870956520847838"
     },
     "user_tz": -360
    },
    "id": "F7UBwHMTSlO3",
    "outputId": "1b1ff201-7b1d-497b-c094-7338c51240df"
   },
   "outputs": [
    {
     "data": {
      "text/html": [
       "<div>\n",
       "<style scoped>\n",
       "    .dataframe tbody tr th:only-of-type {\n",
       "        vertical-align: middle;\n",
       "    }\n",
       "\n",
       "    .dataframe tbody tr th {\n",
       "        vertical-align: top;\n",
       "    }\n",
       "\n",
       "    .dataframe thead th {\n",
       "        text-align: right;\n",
       "    }\n",
       "</style>\n",
       "<table border=\"1\" class=\"dataframe\">\n",
       "  <thead>\n",
       "    <tr style=\"text-align: right;\">\n",
       "      <th></th>\n",
       "      <th>sentence</th>\n",
       "      <th>label</th>\n",
       "    </tr>\n",
       "  </thead>\n",
       "  <tbody>\n",
       "    <tr>\n",
       "      <th>0</th>\n",
       "      <td>According to Gran , the company has no plans t...</td>\n",
       "      <td>1</td>\n",
       "    </tr>\n",
       "    <tr>\n",
       "      <th>1</th>\n",
       "      <td>For the last quarter of 2010 , Componenta 's n...</td>\n",
       "      <td>2</td>\n",
       "    </tr>\n",
       "    <tr>\n",
       "      <th>2</th>\n",
       "      <td>In the third quarter of 2010 , net sales incre...</td>\n",
       "      <td>2</td>\n",
       "    </tr>\n",
       "    <tr>\n",
       "      <th>3</th>\n",
       "      <td>Operating profit rose to EUR 13.1 mn from EUR ...</td>\n",
       "      <td>2</td>\n",
       "    </tr>\n",
       "    <tr>\n",
       "      <th>4</th>\n",
       "      <td>Operating profit totalled EUR 21.1 mn , up fro...</td>\n",
       "      <td>2</td>\n",
       "    </tr>\n",
       "  </tbody>\n",
       "</table>\n",
       "</div>"
      ],
      "text/plain": [
       "                                            sentence  label\n",
       "0  According to Gran , the company has no plans t...      1\n",
       "1  For the last quarter of 2010 , Componenta 's n...      2\n",
       "2  In the third quarter of 2010 , net sales incre...      2\n",
       "3  Operating profit rose to EUR 13.1 mn from EUR ...      2\n",
       "4  Operating profit totalled EUR 21.1 mn , up fro...      2"
      ]
     },
     "execution_count": 6,
     "metadata": {},
     "output_type": "execute_result"
    }
   ],
   "source": [
    "df.head()"
   ]
  },
  {
   "cell_type": "code",
   "execution_count": 7,
   "metadata": {
    "colab": {
     "base_uri": "https://localhost:8080/",
     "height": 300
    },
    "executionInfo": {
     "elapsed": 131,
     "status": "ok",
     "timestamp": 1751986156981,
     "user": {
      "displayName": "hulu world",
      "userId": "05131870956520847838"
     },
     "user_tz": -360
    },
    "id": "J0BvBrLtSo2n",
    "outputId": "22f4fa8b-1ba3-480b-aef2-fdf0c6d629b2"
   },
   "outputs": [
    {
     "data": {
      "text/html": [
       "<div>\n",
       "<style scoped>\n",
       "    .dataframe tbody tr th:only-of-type {\n",
       "        vertical-align: middle;\n",
       "    }\n",
       "\n",
       "    .dataframe tbody tr th {\n",
       "        vertical-align: top;\n",
       "    }\n",
       "\n",
       "    .dataframe thead th {\n",
       "        text-align: right;\n",
       "    }\n",
       "</style>\n",
       "<table border=\"1\" class=\"dataframe\">\n",
       "  <thead>\n",
       "    <tr style=\"text-align: right;\">\n",
       "      <th></th>\n",
       "      <th>label</th>\n",
       "    </tr>\n",
       "  </thead>\n",
       "  <tbody>\n",
       "    <tr>\n",
       "      <th>count</th>\n",
       "      <td>2264.000000</td>\n",
       "    </tr>\n",
       "    <tr>\n",
       "      <th>mean</th>\n",
       "      <td>1.117933</td>\n",
       "    </tr>\n",
       "    <tr>\n",
       "      <th>std</th>\n",
       "      <td>0.609801</td>\n",
       "    </tr>\n",
       "    <tr>\n",
       "      <th>min</th>\n",
       "      <td>0.000000</td>\n",
       "    </tr>\n",
       "    <tr>\n",
       "      <th>25%</th>\n",
       "      <td>1.000000</td>\n",
       "    </tr>\n",
       "    <tr>\n",
       "      <th>50%</th>\n",
       "      <td>1.000000</td>\n",
       "    </tr>\n",
       "    <tr>\n",
       "      <th>75%</th>\n",
       "      <td>2.000000</td>\n",
       "    </tr>\n",
       "    <tr>\n",
       "      <th>max</th>\n",
       "      <td>2.000000</td>\n",
       "    </tr>\n",
       "  </tbody>\n",
       "</table>\n",
       "</div>"
      ],
      "text/plain": [
       "             label\n",
       "count  2264.000000\n",
       "mean      1.117933\n",
       "std       0.609801\n",
       "min       0.000000\n",
       "25%       1.000000\n",
       "50%       1.000000\n",
       "75%       2.000000\n",
       "max       2.000000"
      ]
     },
     "execution_count": 7,
     "metadata": {},
     "output_type": "execute_result"
    }
   ],
   "source": [
    "df.describe()"
   ]
  },
  {
   "cell_type": "code",
   "execution_count": 8,
   "metadata": {
    "colab": {
     "base_uri": "https://localhost:8080/"
    },
    "executionInfo": {
     "elapsed": 33,
     "status": "ok",
     "timestamp": 1751986160323,
     "user": {
      "displayName": "hulu world",
      "userId": "05131870956520847838"
     },
     "user_tz": -360
    },
    "id": "TBtjOj9qS7UX",
    "outputId": "f41f72b3-0cef-4827-c516-baa25d5140a4"
   },
   "outputs": [
    {
     "data": {
      "text/plain": [
       "(2264, 2)"
      ]
     },
     "execution_count": 8,
     "metadata": {},
     "output_type": "execute_result"
    }
   ],
   "source": [
    "df.shape"
   ]
  },
  {
   "cell_type": "markdown",
   "metadata": {
    "id": "g9uiMomohiVO"
   },
   "source": [
    "#    Check for Missing or Null Values"
   ]
  },
  {
   "cell_type": "code",
   "execution_count": 9,
   "metadata": {
    "colab": {
     "base_uri": "https://localhost:8080/",
     "height": 147
    },
    "executionInfo": {
     "elapsed": 50,
     "status": "ok",
     "timestamp": 1751986234926,
     "user": {
      "displayName": "hulu world",
      "userId": "05131870956520847838"
     },
     "user_tz": -360
    },
    "id": "iUgilluwhD9V",
    "outputId": "df9a330f-9a45-44cd-c87f-c0ede740c388"
   },
   "outputs": [
    {
     "data": {
      "text/plain": [
       "sentence    0\n",
       "label       0\n",
       "dtype: int64"
      ]
     },
     "execution_count": 9,
     "metadata": {},
     "output_type": "execute_result"
    }
   ],
   "source": [
    "df.isnull().sum()\n"
   ]
  },
  {
   "cell_type": "markdown",
   "metadata": {
    "id": "tf-TZHtdhJ9N"
   },
   "source": [
    "#    Analyze Label Distribution\n"
   ]
  },
  {
   "cell_type": "code",
   "execution_count": 7,
   "metadata": {
    "colab": {
     "base_uri": "https://localhost:8080/",
     "height": 472
    },
    "executionInfo": {
     "elapsed": 337,
     "status": "ok",
     "timestamp": 1751986338997,
     "user": {
      "displayName": "hulu world",
      "userId": "05131870956520847838"
     },
     "user_tz": -360
    },
    "id": "xN7Bc__YhL_F",
    "outputId": "f4a267ba-8f9a-49a8-9eaa-1304c9d0b60b"
   },
   "outputs": [
    {
     "data": {
      "image/png": "[encoded data removed]",
      "text/plain": [
       "<Figure size 640x480 with 1 Axes>"
      ]
     },
     "metadata": {},
     "output_type": "display_data"
    }
   ],
   "source": [
    "sns.countplot(x='label', data=df)\n",
    "plt.title('Label Distribution')\n",
    "plt.show()"
   ]
  },
  {
   "cell_type": "markdown",
   "metadata": {
    "id": "itXmKUMHhnlO"
   },
   "source": [
    "#  Basic Text Statistics"
   ]
  },
  {
   "cell_type": "code",
   "execution_count": 10,
   "metadata": {
    "colab": {
     "base_uri": "https://localhost:8080/",
     "height": 472
    },
    "executionInfo": {
     "elapsed": 297,
     "status": "ok",
     "timestamp": 1751986553925,
     "user": {
      "displayName": "hulu world",
      "userId": "05131870956520847838"
     },
     "user_tz": -360
    },
    "id": "3neFhDOQhruF",
    "outputId": "336392a7-76e6-49d6-f0b3-50e1fafdaa06"
   },
   "outputs": [
    {
     "data": {
      "image/png": "[encoded data removed]",
      "text/plain": [
       "<Figure size 640x480 with 1 Axes>"
      ]
     },
     "metadata": {},
     "output_type": "display_data"
    }
   ],
   "source": [
    "df['sentence_length'] = df['sentence'].apply(lambda x: len(str(x).split()))\n",
    "df['sentence_length'].describe()\n",
    "\n",
    "sns.histplot(df['sentence_length'], bins=30)\n",
    "plt.title('Sentence Length Distribution')\n",
    "plt.xlabel('sentence Length Distribution')\n",
    "plt.show()"
   ]
  },
  {
   "cell_type": "markdown",
   "metadata": {
    "id": "F4RcOmfsibHO"
   },
   "source": [
    "#    Sentence Length per Label"
   ]
  },
  {
   "cell_type": "code",
   "execution_count": 11,
   "metadata": {
    "colab": {
     "base_uri": "https://localhost:8080/",
     "height": 472
    },
    "executionInfo": {
     "elapsed": 275,
     "status": "ok",
     "timestamp": 1751986670836,
     "user": {
      "displayName": "hulu world",
      "userId": "05131870956520847838"
     },
     "user_tz": -360
    },
    "id": "b1r24_Meh8me",
    "outputId": "cc374e22-a866-4502-ea2b-c2a53d214699"
   },
   "outputs": [
    {
     "data": {
      "image/png": "[encoded data removed]",
      "text/plain": [
       "<Figure size 640x480 with 1 Axes>"
      ]
     },
     "metadata": {},
     "output_type": "display_data"
    }
   ],
   "source": [
    "sns.boxplot(x='label', y='sentence_length', data=df)\n",
    "plt.title('Sentence Length per Label')\n",
    "plt.show()"
   ]
  },
  {
   "cell_type": "markdown",
   "metadata": {
    "id": "AO222mQvi5Fl"
   },
   "source": [
    "#    Common Words Analysis"
   ]
  },
  {
   "cell_type": "code",
   "execution_count": 13,
   "metadata": {
    "colab": {
     "base_uri": "https://localhost:8080/"
    },
    "executionInfo": {
     "elapsed": 3432,
     "status": "ok",
     "timestamp": 1751986720516,
     "user": {
      "displayName": "hulu world",
      "userId": "05131870956520847838"
     },
     "user_tz": -360
    },
    "id": "GfohfZ7yi60N",
    "outputId": "f4b18bee-5634-418f-e59e-d0288ee2254d"
   },
   "outputs": [
    {
     "name": "stderr",
     "output_type": "stream",
     "text": [
      "[nltk_data] Downloading package punkt to\n",
      "[nltk_data]     C:\\Users\\teamp\\AppData\\Roaming\\nltk_data...\n",
      "[nltk_data]   Unzipping tokenizers\\punkt.zip.\n"
     ]
    },
    {
     "name": "stdout",
     "output_type": "stream",
     "text": [
      "Top 20 common words: [('the', 2730), ('.', 2219), (',', 2140), ('of', 1525), ('in', 1384), ('and', 1166), ('to', 1081), ('eur', 756), ('a', 721), ('for', 541), ('from', 517), (\"'s\", 440), ('mn', 439), ('is', 415), ('company', 349), ('will', 346), ('profit', 322), ('by', 303), ('net', 292), ('%', 289)]\n"
     ]
    }
   ],
   "source": [
    "from collections import Counter\n",
    "from nltk.tokenize import word_tokenize\n",
    "import nltk\n",
    "nltk.download('punkt')\n",
    "\n",
    "all_words = ' '.join(df['sentence']).lower().split()\n",
    "common_words = Counter(all_words).most_common(20)\n",
    "print(\"Top 20 common words:\", common_words)\n"
   ]
  }
 ],
 "metadata": {
  "accelerator": "GPU",
  "colab": {
   "authorship_tag": "ABX9TyNvotXKebHGzO1VD87x++qM",
   "gpuType": "T4",
   "provenance": []
  },
  "kernelspec": {
   "display_name": ".venv",
   "language": "python",
   "name": "python3"
  },
  "language_info": {
   "codemirror_mode": {
    "name": "ipython",
    "version": 3
   },
   "file_extension": ".py",
   "mimetype": "text/x-python",
   "name": "python",
   "nbconvert_exporter": "python",
   "pygments_lexer": "ipython3",
   "version": "3.10.11"
  }
 },
 "nbformat": 4,
 "nbformat_minor": 0
}
